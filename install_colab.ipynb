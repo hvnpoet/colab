{
  "nbformat": 4,
  "nbformat_minor": 0,
  "metadata": {
    "colab": {
      "name": "install_colab.ipynb",
      "provenance": [],
      "include_colab_link": true
    },
    "kernelspec": {
      "name": "python3",
      "display_name": "Python 3"
    }
  },
  "cells": [
    {
      "cell_type": "markdown",
      "metadata": {
        "id": "view-in-github",
        "colab_type": "text"
      },
      "source": [
        "<a href=\"https://colab.research.google.com/github/hvnpoet/colab/blob/master/install_colab.ipynb\" target=\"_parent\"><img src=\"https://colab.research.google.com/assets/colab-badge.svg\" alt=\"Open In Colab\"/></a>"
      ]
    },
    {
      "cell_type": "markdown",
      "metadata": {
        "id": "20BppWkUQJ7J",
        "colab_type": "text"
      },
      "source": [
        "# **Colab 사용하기**\n",
        "\n",
        "* 본 내용은 아래 글을 참고함\n",
        "  * https://zzsza.github.io/data/2018/08/30/google-colab/\n",
        "\n",
        "* OS 확인"
      ]
    },
    {
      "cell_type": "code",
      "metadata": {
        "id": "IKwfHiK8I1vs",
        "colab_type": "code",
        "colab": {}
      },
      "source": [
        "!cat /etc/issue.net"
      ],
      "execution_count": 0,
      "outputs": []
    },
    {
      "cell_type": "markdown",
      "metadata": {
        "id": "g0IvM6uOQNlu",
        "colab_type": "text"
      },
      "source": [
        "하드웨어 사양\n",
        "---\n",
        "* CPU"
      ]
    },
    {
      "cell_type": "code",
      "metadata": {
        "id": "Wp6sj5DzJS1S",
        "colab_type": "code",
        "colab": {}
      },
      "source": [
        "!cat /proc/cpuinfo"
      ],
      "execution_count": 0,
      "outputs": []
    },
    {
      "cell_type": "markdown",
      "metadata": {
        "id": "O3bXCQO0QaSY",
        "colab_type": "text"
      },
      "source": [
        "* MEMORY"
      ]
    },
    {
      "cell_type": "code",
      "metadata": {
        "id": "_J5i3gOqJyLS",
        "colab_type": "code",
        "colab": {}
      },
      "source": [
        "!cat /proc/meminfo"
      ],
      "execution_count": 0,
      "outputs": []
    },
    {
      "cell_type": "markdown",
      "metadata": {
        "id": "TUsm80r2QjLf",
        "colab_type": "text"
      },
      "source": [
        "* DISK"
      ]
    },
    {
      "cell_type": "code",
      "metadata": {
        "id": "00sTmGLeQfO_",
        "colab_type": "code",
        "colab": {}
      },
      "source": [
        "!df -h"
      ],
      "execution_count": 0,
      "outputs": []
    },
    {
      "cell_type": "markdown",
      "metadata": {
        "id": "lKTk-iJKQn0Z",
        "colab_type": "text"
      },
      "source": [
        "* GPU"
      ]
    },
    {
      "cell_type": "code",
      "metadata": {
        "id": "N-8g-2z2J7Ao",
        "colab_type": "code",
        "outputId": "df9063df-bceb-42f8-9bb7-d6263b72e693",
        "colab": {
          "base_uri": "https://localhost:8080/",
          "height": 52
        }
      },
      "source": [
        "!nvidia-smi"
      ],
      "execution_count": 0,
      "outputs": [
        {
          "output_type": "stream",
          "text": [
            "NVIDIA-SMI has failed because it couldn't communicate with the NVIDIA driver. Make sure that the latest NVIDIA driver is installed and running.\n",
            "\n"
          ],
          "name": "stdout"
        }
      ]
    },
    {
      "cell_type": "markdown",
      "metadata": {
        "id": "Ae_aoRqkQvoe",
        "colab_type": "text"
      },
      "source": [
        "**구글 드라이브와 Colab 연동**"
      ]
    },
    {
      "cell_type": "code",
      "metadata": {
        "id": "eiHmb-0SKRO9",
        "colab_type": "code",
        "outputId": "43bc9832-9724-4733-ecbc-c2425acca8c3",
        "colab": {
          "base_uri": "https://localhost:8080/",
          "height": 34
        }
      },
      "source": [
        "from google.colab import auth\n",
        "auth.authenticate_user()\n",
        "\n",
        "from google.colab import drive\n",
        "drive.mount('/content/gdrive')"
      ],
      "execution_count": 0,
      "outputs": [
        {
          "output_type": "stream",
          "text": [
            "Mounted at /content/gdrive\n"
          ],
          "name": "stdout"
        }
      ]
    },
    {
      "cell_type": "markdown",
      "metadata": {
        "id": "cercFNw0QzVf",
        "colab_type": "text"
      },
      "source": [
        "* colab에서 구글 드라이브 권한 획득\n",
        "\n",
        "  * 위 명령어 복사 붙여넣기\n",
        "  * 그 후 나오는 URL로 접속한 후, verification code 입력\n",
        "  * 단, 매번 이 작업을 해줘야 함….(일정 시간 이후엔 끊김)\n",
        "\n",
        "* colab에서 drive란 폴더를 만든 후, 우리 구글 드라이브의 root와 drive 폴더를 연결(mount)"
      ]
    },
    {
      "cell_type": "code",
      "metadata": {
        "id": "pRh65XDfK8Nw",
        "colab_type": "code",
        "outputId": "b5840778-3726-4361-f7bb-741cd95cf541",
        "colab": {
          "base_uri": "https://localhost:8080/",
          "height": 298
        }
      },
      "source": [
        "!cd \"./gdrive/My Drive\"; ls -al;"
      ],
      "execution_count": 0,
      "outputs": [
        {
          "output_type": "stream",
          "text": [
            "total 61\n",
            "drwx------ 2 root root 4096 Jun  3 21:25 '제목없는 폴더'\n",
            "drwx------ 2 root root 4096 Aug 28  2018  000.개인\n",
            "drwx------ 2 root root 4096 Aug 28  2018  001.가족\n",
            "drwx------ 2 root root 4096 Aug 28  2018  002.원불교\n",
            "drwx------ 2 root root 4096 Aug 28  2018  003.학습\n",
            "drwx------ 2 root root 4096 Aug 28  2018  004.사업\n",
            "drwx------ 2 root root 4096 Aug 28  2018  005.소셜\n",
            "drwx------ 2 root root 4096 Aug 28  2018  999.기타\n",
            "-rw------- 1 root root 8269 Sep 30 22:14 'AI applications.docx'\n",
            "drwx------ 2 root root 4096 Nov 27 10:27 'Colab Notebooks'\n",
            "drwx------ 2 root root 4096 Jul  7 08:50  com.nll.asr\n",
            "drwx------ 2 root root 4096 Nov 27 10:24  data\n",
            "drwx------ 2 root root 4096 Aug 28  2018 'Google 포토'\n",
            "-rw------- 1 root root  151 Jul  5 07:15 '제목없는 스프레드시트.gsheet'\n",
            "drwx------ 2 root root 4096 Aug 29 16:56  OneDrive\n"
          ],
          "name": "stdout"
        }
      ]
    },
    {
      "cell_type": "markdown",
      "metadata": {
        "id": "Ir1UZoZ1R0Kr",
        "colab_type": "text"
      },
      "source": [
        "* 구글드라이브의 root에 data란 폴더가 있었음\n",
        "* train_activitiy.csv 데이터를 읽어오기(data 폴더 없으면 그냥 스킵)"
      ]
    },
    {
      "cell_type": "code",
      "metadata": {
        "id": "UGB0ywRULE96",
        "colab_type": "code",
        "colab": {}
      },
      "source": [
        "import pandas as pd\n",
        "df = pd.read_csv(\"./gdrive/data/train_activity.csv\")"
      ],
      "execution_count": 0,
      "outputs": []
    },
    {
      "cell_type": "markdown",
      "metadata": {
        "id": "oyKswZxkR_5i",
        "colab_type": "text"
      },
      "source": [
        "* 만약 apt-key output should not be parsed (stdout is not a terminal)란 Warning이 나오면 이미 인증이 완료되었다는 뜻이므로 바로 mount하면 됨\n",
        "\n",
        "**Tensorflow 설치하기**\n",
        "\n",
        "* 2019년 7월 기준 Colab에 설치된 Tensorflow는 1.14.0입니다.\n",
        "  * Tensorflow 2.0을 설치하고 싶으면 아래처럼 입력할 것"
      ]
    },
    {
      "cell_type": "code",
      "metadata": {
        "id": "AkKMxT8oMP3a",
        "colab_type": "code",
        "colab": {}
      },
      "source": [
        "!pip install tensorflow==2.0.0-beta1"
      ],
      "execution_count": 0,
      "outputs": []
    },
    {
      "cell_type": "markdown",
      "metadata": {
        "id": "u09qRfoSSU9q",
        "colab_type": "text"
      },
      "source": [
        "* 그 후, 런타임 - 런타임 다시 시작을 누르셔서 런타임을 다시 실행시키면 Tensorflow 2.0.0-beta1 설치된 것을 알 수 있음"
      ]
    },
    {
      "cell_type": "code",
      "metadata": {
        "id": "lCtAtKaESaJO",
        "colab_type": "code",
        "colab": {}
      },
      "source": [
        "  import tensorflow as tf\n",
        "  print(tf.__version__)"
      ],
      "execution_count": 0,
      "outputs": []
    },
    {
      "cell_type": "markdown",
      "metadata": {
        "id": "ONPw4Xi-SkCt",
        "colab_type": "text"
      },
      "source": [
        "**PyTorch 사용하기**\n",
        "\n",
        "* 2019년 1월 26일부터 Colab에 기본적으로 PyTorch, torchvision, torchtext가 내장되었습니다\n",
        "  * 출처 : PyTorch 트위터"
      ]
    },
    {
      "cell_type": "code",
      "metadata": {
        "id": "YrPyuN5QMYZ3",
        "colab_type": "code",
        "outputId": "fad13833-1d6f-46d4-bf3c-d7092f1e94d2",
        "colab": {
          "base_uri": "https://localhost:8080/",
          "height": 34
        }
      },
      "source": [
        "import torch\n",
        "import torchvision\n",
        "import torchtext\n",
        "print(torch.__version__)"
      ],
      "execution_count": 0,
      "outputs": [
        {
          "output_type": "stream",
          "text": [
            "1.3.1\n"
          ],
          "name": "stdout"
        }
      ]
    },
    {
      "cell_type": "markdown",
      "metadata": {
        "id": "dVMVFes_SrRX",
        "colab_type": "text"
      },
      "source": [
        "**KoNLPy 설치**\n",
        "\n",
        "* 공식 문서엔 openjdk-7-jdk로 작성되어 있으나, 우분투 17.04에선 ppa를 추가해야 설치 가능\n",
        "  * ppa를 추가하지 않고 8 버전을 설치"
      ]
    },
    {
      "cell_type": "code",
      "metadata": {
        "id": "qwG2zOcbMmgg",
        "colab_type": "code",
        "colab": {}
      },
      "source": [
        "!apt-get update\n",
        "!apt-get install g++ openjdk-8-jdk \n",
        "!pip3 install konlpy"
      ],
      "execution_count": 0,
      "outputs": []
    },
    {
      "cell_type": "markdown",
      "metadata": {
        "id": "OeN8HepOS0Z5",
        "colab_type": "text"
      },
      "source": [
        "* 예제 코드(실행시켜보지는 않았음)"
      ]
    },
    {
      "cell_type": "code",
      "metadata": {
        "id": "bQyn1K_RM7hP",
        "colab_type": "code",
        "colab": {}
      },
      "source": [
        "from konlpy.tag import Twitter\n",
        "\n",
        "twitter = Twitter()\n",
        "twitter.pos(\"질문이나 건의사항은 깃헙 이슈 트래커에 남겨주세요\")"
      ],
      "execution_count": 0,
      "outputs": []
    },
    {
      "cell_type": "markdown",
      "metadata": {
        "id": "Z9MmmL4rS9r_",
        "colab_type": "text"
      },
      "source": [
        "**Github 코드를 Colab에서 사용하기**\n",
        "\n",
        "* nbviewer나 htmlpreview처럼 사용 가능\n",
        "* https://github.com/ 부분을 https://colab.research.google.com/github/ 으로 교체하면 됨\n",
        "  * 예시\n",
        "    * https://github.com/zzsza/TIL/blob/master/python/tensorflow-1.ipynb\n",
        "    * https://colab.research.google.com/github/zzsza/TIL/blob/master/python/tensorflow-1.ipynb\n",
        "\n",
        "\n",
        "**BigQuery 사용하기**\n",
        "\n",
        "* google.colab의 auth를 통해 클라우드 권한을 얻은 후, 다양한 라이브러리 사용\n",
        "* google.cloud.bigquery 사용시"
      ]
    },
    {
      "cell_type": "code",
      "metadata": {
        "id": "n2Swsjn_Th6A",
        "colab_type": "code",
        "colab": {}
      },
      "source": [
        "from google.cloud import bigquery\n",
        "from google.colab import auth\n",
        "\t\n",
        "project_id = '[your project ID]'\n",
        "\t\n",
        "auth.authenticate_user()\n",
        "\t\n",
        "client = bigquery.Client(project=project_id)\n",
        "for dataset in client.list_datasets():\n",
        "  print(dataset.dataset_id)"
      ],
      "execution_count": 0,
      "outputs": []
    },
    {
      "cell_type": "markdown",
      "metadata": {
        "id": "g4GpnuyCTxd2",
        "colab_type": "text"
      },
      "source": [
        "* pandas_gbq 사용시 (개인적으로 이 방법 추천)"
      ]
    },
    {
      "cell_type": "code",
      "metadata": {
        "id": "f3Djwvd2T4Vu",
        "colab_type": "code",
        "colab": {}
      },
      "source": [
        "import pandas as pd\n",
        "from google.colab import auth\n",
        "auth.authenticate_user()\n",
        "\n",
        "query = \"SELECT * FROM <YOUR TABLE> LIMIT 10\"\n",
        "df = pd.read_gbq(query=query, project_id=<your project id>, dialect=‘standard’))"
      ],
      "execution_count": 0,
      "outputs": []
    },
    {
      "cell_type": "markdown",
      "metadata": {
        "id": "CT65OgP8UALY",
        "colab_type": "text"
      },
      "source": [
        "**Matplotlib에서 한글 사용하기**\n",
        "\n",
        "* 폰트 설치"
      ]
    },
    {
      "cell_type": "code",
      "metadata": {
        "id": "b-CSZwPQUEj0",
        "colab_type": "code",
        "colab": {}
      },
      "source": [
        "!apt-get install fonts-nanum*\n",
        "!apt-get install fontconfig\n",
        "!fc-cache -fv\n",
        "!cp /usr/share/fonts/truetype/nanum/Nanum* /usr/local/lib/python3.6/dist-packages/matplotlib/mpl-data/fonts/ttf/\n",
        "!rm -rf /content/.cache/matplotlib/*"
      ],
      "execution_count": 0,
      "outputs": []
    },
    {
      "cell_type": "markdown",
      "metadata": {
        "id": "GZRWWI9qUJz-",
        "colab_type": "text"
      },
      "source": [
        "* 그래프 그리기"
      ]
    },
    {
      "cell_type": "code",
      "metadata": {
        "id": "2KIUIiGTUMp-",
        "colab_type": "code",
        "colab": {}
      },
      "source": [
        "import matplotlib.pyplot as plt\n",
        "import matplotlib as mpl\n",
        "import matplotlib.font_manager as fm\n",
        "import numpy as np\n",
        "\n",
        "%matplotlib inline\n",
        "%config InlineBackend.figure_format = 'retina'\n",
        "\n",
        "mpl.rcParams['axes.unicode_minus'] = False\n",
        "# 그래프에서 마이너스 폰트 깨질 경우 대비\n",
        "\n",
        "path = '/usr/share/fonts/truetype/nanum/NanumGothicBold.ttf'\n",
        "font_name = fm.FontProperties(fname=path, size=18).get_name()\n",
        "plt.rc('font', family=font_name)\n",
        "fm._rebuild() # 이걸 해줘야 plt.rc가 작동\n",
        "\n",
        "plt.plot(np.random.randn(4, 8), np.random.randn(4,8), 'bo--')\n",
        "plt.title('타이틀')\n",
        "plt.xlabel('X 라벨')\n",
        "plt.ylabel('Y 라벨')\n",
        "plt.show()"
      ],
      "execution_count": 0,
      "outputs": []
    },
    {
      "cell_type": "markdown",
      "metadata": {
        "id": "o9yrt8adUbmZ",
        "colab_type": "text"
      },
      "source": [
        "**Tensorboard 사용하기**\n",
        "\n",
        "* Tensorboard 사용 준비\n",
        "  * LOG_DIR를 ‘drive/tb_logs’로 설정하면 내 구글드라이브 root에 tb_logs 폴더가 생성\n",
        "  *‘drive/data/tb_logs’로 지정"
      ]
    },
    {
      "cell_type": "code",
      "metadata": {
        "id": "J_iy-kmFUkhS",
        "colab_type": "code",
        "colab": {}
      },
      "source": [
        "LOG_DIR = 'drive/data/tb_logs'\n",
        "\n",
        "!wget https://bin.equinox.io/c/4VmDzA7iaHb/ngrok-stable-linux-amd64.zip\n",
        "!unzip ngrok-stable-linux-amd64.zip\n",
        "\n",
        "import os\n",
        "if not os.path.exists(LOG_DIR):\n",
        "  os.makedirs(LOG_DIR)\n",
        "\n",
        "  get_ipython().system_raw('tensorboard --logdir {} --host 0.0.0.0 --port 6006 &'.format(LOG_DIR))\n",
        "\tget_ipython().system_raw('./ngrok http 6006 &')\n",
        "\t\n",
        "  !curl -s http://localhost:4040/api/tunnels | python3 -c \"import sys, json; print(json.load(sys.stdin)['tunnels'][0]['public_url'])\""
      ],
      "execution_count": 0,
      "outputs": []
    },
    {
      "cell_type": "markdown",
      "metadata": {
        "id": "mUrtr-EcU6zN",
        "colab_type": "text"
      },
      "source": [
        "* 아래 예제 코드 실행 후, Epoch 지나고 위 코드에서 나온 URL 클릭하면 TensorBoard로 이동"
      ]
    },
    {
      "cell_type": "code",
      "metadata": {
        "id": "c737fhP8U_2d",
        "colab_type": "code",
        "colab": {}
      },
      "source": [
        "from __future__ import print_function\n",
        "import keras\n",
        "from keras.datasets import mnist\n",
        "from keras.models import Sequential\n",
        "from keras.layers import Dense, Dropout, Flatten\n",
        "from keras.layers import Conv2D, MaxPooling2D\n",
        "from keras import backend as K\n",
        "from keras.callbacks import TensorBoard\n",
        "\n",
        "batch_size = 128\n",
        "num_classes = 10\n",
        "epochs = 12\n",
        "\n",
        "### input image dimensions\n",
        "img_rows, img_cols = 28, 28\n",
        "\n",
        "### the data, shuffled and split between train and test sets\n",
        "(x_train, y_train), (x_test, y_test) = mnist.load_data()\n",
        "\n",
        "if K.image_data_format() == 'channels_first':\n",
        "  x_train = x_train.reshape(x_train.shape[0], 1, img_rows, img_cols)\n",
        "  x_test = x_test.reshape(x_test.shape[0], 1, img_rows, img_cols)\n",
        "  input_shape = (1, img_rows, img_cols)\n",
        "else:\n",
        "  x_train = x_train.reshape(x_train.shape[0], img_rows, img_cols, 1)\n",
        "  x_test = x_test.reshape(x_test.shape[0], img_rows, img_cols, 1)\n",
        "  input_shape = (img_rows, img_cols, 1)\n",
        "\n",
        "x_train = x_train.astype('float32')\n",
        "x_test = x_test.astype('float32')\n",
        "x_train /= 255\n",
        "x_test /= 255\n",
        "print('x_train shape:', x_train.shape)\n",
        "print(x_train.shape[0], 'train samples')\n",
        "print(x_test.shape[0], 'test samples')\n",
        "\n",
        "### convert class vectors to binary class matrices\n",
        "y_train = keras.utils.to_categorical(y_train, num_classes)\n",
        "y_test = keras.utils.to_categorical(y_test, num_classes)\n",
        "\n",
        "model = Sequential()\n",
        "model.add(Conv2D(32,\n",
        "                 kernel_size=(3, 3),\n",
        "                 activation='relu',\n",
        "                 input_shape=input_shape))\n",
        "model.add(Conv2D(64, (3, 3), activation='relu'))\n",
        "model.add(MaxPooling2D(pool_size=(2, 2)))\n",
        "model.add(Dropout(0.25))\n",
        "model.add(Flatten())\n",
        "model.add(Dense(128, activation='relu'))\n",
        "model.add(Dropout(0.5))\n",
        "model.add(Dense(num_classes, activation='softmax'))\n",
        "\n",
        "model.compile(loss=keras.losses.categorical_crossentropy,\n",
        "              optimizer=keras.optimizers.Adadelta(),\n",
        "              metrics=['accuracy'])\n",
        "\n",
        "tbCallBack = TensorBoard(log_dir=LOG_DIR, \n",
        "                         histogram_freq=1,\n",
        "                         write_graph=True,\n",
        "                         write_grads=True,\n",
        "                         batch_size=batch_size,\n",
        "                         write_images=True)\n",
        "\t\n",
        "model.fit(x_train, y_train,\n",
        "          batch_size=batch_size,\n",
        "          epochs=epochs,\n",
        "          verbose=1,\n",
        "          validation_data=(x_test, y_test),\n",
        "          callbacks=[tbCallBack])\n",
        "score = model.evaluate(x_test, y_test, verbose=0)\n",
        "print('Test loss:', score[0])\n",
        "print('Test accuracy:', score[1])"
      ],
      "execution_count": 0,
      "outputs": []
    },
    {
      "cell_type": "markdown",
      "metadata": {
        "id": "2JyBPXJgVqXS",
        "colab_type": "text"
      },
      "source": [
        "**JDK 설치하기**\n",
        "* Python을 사용해 JDK 설치하기\n",
        "  * 아래 코드 입력"
      ]
    },
    {
      "cell_type": "code",
      "metadata": {
        "id": "kHU3YD9pVu4M",
        "colab_type": "code",
        "colab": {}
      },
      "source": [
        "import os      \n",
        "def install_java():\n",
        "  !apt-get install -y openjdk-8-jdk-headless -qq > /dev/null      #install openjdk\n",
        "  os.environ[\"JAVA_HOME\"] = \"/usr/lib/jvm/java-8-openjdk-amd64\"     #set environment variable\n",
        "  !java -version       #check java version\n",
        "install_java()"
      ],
      "execution_count": 0,
      "outputs": []
    },
    {
      "cell_type": "markdown",
      "metadata": {
        "id": "rmySclRWV4Lh",
        "colab_type": "text"
      },
      "source": [
        "**Google Storage에서 파일 읽기**\n",
        "* gcsfs를 활용한 방법\n",
        "  * storage에서 땡겨오기 때문에 colab에 파일을 옮기지 않아도 됨. 그러나 약간 시간 소요됨. 빠른 방법은 아래 gsutil 참고"
      ]
    },
    {
      "cell_type": "code",
      "metadata": {
        "id": "_csGF0wxV9yR",
        "colab_type": "code",
        "colab": {}
      },
      "source": [
        "!pip3 install gcsfs dask \n",
        "\n",
        "import gcsfs\n",
        "\n",
        "from google.colab import auth\n",
        "auth.authenticate_user()\n",
        "\n",
        "fs = gcsfs.GCSFileSystem(project='project_name')\n",
        "with fs.open('주소') as f:\n",
        "  df = pd.read_csv(f)"
      ],
      "execution_count": 0,
      "outputs": []
    },
    {
      "cell_type": "markdown",
      "metadata": {
        "id": "ATWUAOsfWElE",
        "colab_type": "text"
      },
      "source": [
        "* 위 방법보다 빠른 방법(gsutil 사용)\n",
        "  * 단, 세션이 초기화되면 매번 gsutil로 파일을 땡겨와야 합니다"
      ]
    },
    {
      "cell_type": "code",
      "metadata": {
        "id": "bQ3VDFUdWIfc",
        "colab_type": "code",
        "colab": {}
      },
      "source": [
        "from google.colab import auth\n",
        "auth.authenticate_user()\n",
        "\n",
        "import pandas as pd\n",
        "\n",
        "file_path = 'data.csv'\n",
        "!gsutil cp gs://<your_bucket>/{file_path} {file_path}\n",
        "df = pd.read_csv(query_result_path)"
      ],
      "execution_count": 0,
      "outputs": []
    },
    {
      "cell_type": "markdown",
      "metadata": {
        "id": "FJsNMLdnWMYq",
        "colab_type": "text"
      },
      "source": [
        "**Kaggle 연동하기**\n",
        "\n",
        "* 1) Kaggle beta API Json Key 다운\n",
        "  * Kaggle - My Account - Dataset 옆에 있는 …을 클릭한 후, Account로 이동\n",
        "  * 하단에 API 부분에 Create New API Token을 클릭하면 Json Key 다운로드\n",
        "  * 이 Json 키를 매번 Colab에서 올려서 할 수도 있지만, 더 편하게 사용하고 싶어서 Google Storage에 Json 파일을 올리고, 거기서 키를 복사해오는 방법으로 진행\n",
        "* 2) Google Storage에 Json Key 저장\n",
        "  * Google Storage로 이동한 후, Storage 버킷 선택 (버킷이 없다면 생성!)\n",
        "  * Colab에서 아래 명령어 입력"
      ]
    },
    {
      "cell_type": "markdown",
      "metadata": {
        "id": "wp8-0CFBWiIq",
        "colab_type": "text"
      },
      "source": [
        "* 3) Kaggle 설치 및 데이터 다운로드\n",
        "  * Competition 확인하기\n",
        "  * 데이터 다운로드는 각 대회 Data 부분에 나와있는 API 명령어를 입력하면 됨\n",
        "  * 아래 명령어로 압축을 풀면 data 폴더에 파일들이 저장됨"
      ]
    },
    {
      "cell_type": "code",
      "metadata": {
        "id": "jyIl0-cjXuhQ",
        "colab_type": "code",
        "colab": {}
      },
      "source": [
        "from google.colab import auth\n",
        "auth.authenticate_user()\n",
        "\n",
        "!pip install kaggle\n",
        "!mkdir -p ~/.kaggle\n",
        "!mv ./kaggle.json ~/.kaggle/\n",
        "!chmod 600 ~/.kaggle/kaggle.json\t\n",
        "\n",
        "!kaggle competitions download -c elo-merchant-category-recommendation\n",
        "!unzip '*.zip' -d ./data"
      ],
      "execution_count": 0,
      "outputs": []
    },
    {
      "cell_type": "markdown",
      "metadata": {
        "id": "Nr0pPBtAX0To",
        "colab_type": "text"
      },
      "source": [
        "**코기 모드**\n",
        "\n",
        "* Colab을 조금 더 귀엽게 만드는 방법\n",
        "  * 도구 - 환경설정 - 기타에 코기 모드 / 아기고양이 모드 체크\n",
        "  * 기타에 파워 레벨을 Many power로 설정하시면 코드를 칠 때마다 이팩트가 생김\n",
        "\n",
        "\n",
        "**런타임 연결**\n",
        "\n",
        "* RAM, 디스크가 나오는 부분의 우측 삼각형을 클릭하면 아래와 같은 메뉴가 보임\n",
        "* 호스트된 런타임에 연결(Connect to Hosted Runtime)\n",
        "  * Google Cloud의 새로운 머신 인스턴스에 연결\n",
        "  * 라이브러리를 다시 설치해야할 수도 있음\n",
        "  * Colab의 연결이 끊길 경우 해당 버튼을 클릭해서 다시 연결할 수 있음(같은 인스턴스인지는 확인 안됨)\n",
        "* 로컬 런타임에 연결(Connect to Local Runtime)\n",
        "  * 내 PC(로컬)을 사용\n",
        "\n",
        "**Reference**\n",
        "* Google Colab Free GPU Tutorial\n",
        "* Google Colaboratory를 활용하여 Keras 개발환경 구축\n",
        "* 유재흥님 블로그\n",
        "* 정현석님 블로그"
      ]
    }
  ]
}